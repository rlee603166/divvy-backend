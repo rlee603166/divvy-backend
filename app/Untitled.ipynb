{
 "cells": [
  {
   "cell_type": "code",
   "execution_count": 1,
   "id": "6be6f41f-a58d-44f6-9502-f39b7b019935",
   "metadata": {
    "editable": true,
    "slideshow": {
     "slide_type": ""
    },
    "tags": []
   },
   "outputs": [
    {
     "name": "stdout",
     "output_type": "stream",
     "text": [
      "Requirement already satisfied: pip in /opt/homebrew/lib/python3.11/site-packages (24.3.1)\n"
     ]
    }
   ],
   "source": [
    "!pip install --upgrade pip"
   ]
  },
  {
   "cell_type": "code",
   "execution_count": 2,
   "id": "d0e417fc-2160-4326-9003-c6ff678150bf",
   "metadata": {
    "scrolled": true
   },
   "outputs": [
    {
     "name": "stdout",
     "output_type": "stream",
     "text": [
      "Requirement already satisfied: pytesseract in /opt/homebrew/lib/python3.11/site-packages (0.3.13)\n",
      "Requirement already satisfied: packaging>=21.3 in /opt/homebrew/lib/python3.11/site-packages (from pytesseract) (24.1)\n",
      "Requirement already satisfied: Pillow>=8.0.0 in /opt/homebrew/lib/python3.11/site-packages (from pytesseract) (11.0.0)\n",
      "Requirement already satisfied: opencv-python in /opt/homebrew/lib/python3.11/site-packages (4.10.0.84)\n",
      "Requirement already satisfied: numpy>=1.21.2 in /opt/homebrew/lib/python3.11/site-packages (from opencv-python) (2.1.3)\n",
      "Requirement already satisfied: python-multipart in /opt/homebrew/lib/python3.11/site-packages (0.0.17)\n",
      "Requirement already satisfied: pillow in /opt/homebrew/lib/python3.11/site-packages (11.0.0)\n",
      "Requirement already satisfied: pytesseract in /opt/homebrew/lib/python3.11/site-packages (0.3.13)\n",
      "Requirement already satisfied: opencv-python in /opt/homebrew/lib/python3.11/site-packages (4.10.0.84)\n",
      "Requirement already satisfied: numpy in /opt/homebrew/lib/python3.11/site-packages (2.1.3)\n",
      "Requirement already satisfied: uvicorn in /opt/homebrew/lib/python3.11/site-packages (0.32.0)\n",
      "Requirement already satisfied: packaging>=21.3 in /opt/homebrew/lib/python3.11/site-packages (from pytesseract) (24.1)\n",
      "Requirement already satisfied: click>=7.0 in /opt/homebrew/lib/python3.11/site-packages (from uvicorn) (8.1.7)\n",
      "Requirement already satisfied: h11>=0.8 in /opt/homebrew/lib/python3.11/site-packages (from uvicorn) (0.14.0)\n"
     ]
    }
   ],
   "source": [
    "!pip install pytesseract\n",
    "!pip install opencv-python\n",
    "!pip install python-multipart pillow pytesseract opencv-python numpy uvicorn"
   ]
  },
  {
   "cell_type": "code",
   "execution_count": 3,
   "id": "b1a379de-9ea5-4a7c-96c7-886941bc8789",
   "metadata": {},
   "outputs": [],
   "source": [
    "!source ../.venv/bin/activate"
   ]
  },
  {
   "cell_type": "code",
   "execution_count": 5,
   "id": "be00e613-1c36-45d9-bf11-e65fa7c6788f",
   "metadata": {},
   "outputs": [],
   "source": [
    "import pytesseract\n",
    "import argparse\n",
    "import cv2"
   ]
  },
  {
   "cell_type": "code",
   "execution_count": 6,
   "id": "dfed43cf-0e99-418c-994f-3435e96c44ee",
   "metadata": {},
   "outputs": [
    {
     "name": "stderr",
     "output_type": "stream",
     "text": [
      "usage: ipykernel_launcher.py [-h] -i IMAGE\n",
      "ipykernel_launcher.py: error: the following arguments are required: -i/--image\n"
     ]
    },
    {
     "ename": "SystemExit",
     "evalue": "2",
     "output_type": "error",
     "traceback": [
      "An exception has occurred, use %tb to see the full traceback.\n",
      "\u001b[0;31mSystemExit\u001b[0m\u001b[0;31m:\u001b[0m 2\n"
     ]
    },
    {
     "name": "stderr",
     "output_type": "stream",
     "text": [
      "/opt/homebrew/lib/python3.11/site-packages/IPython/core/interactiveshell.py:3585: UserWarning: To exit: use 'exit', 'quit', or Ctrl-D.\n",
      "  warn(\"To exit: use 'exit', 'quit', or Ctrl-D.\", stacklevel=1)\n"
     ]
    }
   ],
   "source": [
    "ap = argparse.ArgumentParser()\n",
    "ap.add_argument(\"-i\", \"--image\", required=True,\n",
    "\thelp=\"path to input image to be OCR'd\")\n",
    "args = vars(ap.parse_args())"
   ]
  },
  {
   "cell_type": "code",
   "execution_count": 7,
   "id": "132d2e29-81cc-4e75-8847-3a9b255ec2aa",
   "metadata": {},
   "outputs": [
    {
     "ename": "NameError",
     "evalue": "name 'args' is not defined",
     "output_type": "error",
     "traceback": [
      "\u001b[0;31m---------------------------------------------------------------------------\u001b[0m",
      "\u001b[0;31mNameError\u001b[0m                                 Traceback (most recent call last)",
      "Cell \u001b[0;32mIn[7], line 1\u001b[0m\n\u001b[0;32m----> 1\u001b[0m image \u001b[38;5;241m=\u001b[39m cv2\u001b[38;5;241m.\u001b[39mimread(\u001b[43margs\u001b[49m[\u001b[38;5;124m\"\u001b[39m\u001b[38;5;124mimage\u001b[39m\u001b[38;5;124m\"\u001b[39m])\n\u001b[1;32m      2\u001b[0m image \u001b[38;5;241m=\u001b[39m cv2\u001b[38;5;241m.\u001b[39mcvtColor(image, cv2\u001b[38;5;241m.\u001b[39mCOLOR_BGR2RGB)\n\u001b[1;32m      3\u001b[0m \u001b[38;5;66;03m# use Tesseract to OCR the image\u001b[39;00m\n",
      "\u001b[0;31mNameError\u001b[0m: name 'args' is not defined"
     ]
    }
   ],
   "source": [
    "image = cv2.imread(args[\"image\"])\n",
    "image = cv2.cvtColor(image, cv2.COLOR_BGR2RGB)\n",
    "# use Tesseract to OCR the image\n",
    "text = pytesseract.image_to_string(image)\n",
    "print(text)"
   ]
  },
  {
   "cell_type": "code",
   "execution_count": 3,
   "id": "432e099e-79ee-43de-b366-d8fd08e8f7b4",
   "metadata": {},
   "outputs": [],
   "source": [
    "import pytesseract\n",
    "import argparse\n",
    "import cv2"
   ]
  },
  {
   "cell_type": "code",
   "execution_count": 4,
   "id": "11bdb42a-e05d-46e5-978a-149ecc37432f",
   "metadata": {},
   "outputs": [],
   "source": [
    "image_path = \"./receipt.jpg\""
   ]
  },
  {
   "cell_type": "code",
   "execution_count": 24,
   "id": "1eacb983-ddad-4d8e-af2c-4158af28bd4a",
   "metadata": {},
   "outputs": [],
   "source": [
    "image = cv2.imread(image_path)\n",
    "if image is None:\n",
    "    raise FileNotFoundError(f\"Image not found at path: {image_path}\")\n",
    "\n",
    "# Convert the image to RGB format\n",
    "image = cv2.cvtColor(image, cv2.COLOR_BGR2RGB)\n",
    "\n",
    "# Perform OCR\n",
    "text = pytesseract.image_to_string(image)"
   ]
  },
  {
   "cell_type": "code",
   "execution_count": 12,
   "id": "b65dd4ea-a894-4dd7-bde8-2bddbd26792b",
   "metadata": {},
   "outputs": [],
   "source": [
    "cv2.imshow(\"nothing\", image)\n",
    "key = cv2.waitKey(0)\n",
    "if key == ord('q') or key == 27:  # 27 is the ASCII code for 'ESC'\n",
    "    cv2.destroyAllWindows()"
   ]
  },
  {
   "cell_type": "code",
   "execution_count": 13,
   "id": "4a783598-a089-43b0-af89-a4de1ae1800d",
   "metadata": {},
   "outputs": [],
   "source": [
    "def resize_receipt(image):\n",
    "    height = 1800  # Target height for decent OCR\n",
    "    aspect = image.shape[1] / image.shape[0]\n",
    "    width = int(height * aspect)\n",
    "    return cv2.resize(image, (width, height), interpolation=cv2.INTER_CUBIC)"
   ]
  },
  {
   "cell_type": "code",
   "execution_count": 14,
   "id": "3f98e412-ac6c-48d0-8096-87e093f124ec",
   "metadata": {},
   "outputs": [],
   "source": [
    "def enhance_receipt(image):\n",
    "    # Convert to grayscale\n",
    "    gray = cv2.cvtColor(image, cv2.COLOR_BGR2GRAY)\n",
    "    \n",
    "    # Apply CLAHE (Contrast Limited Adaptive Histogram Equalization)\n",
    "    clahe = cv2.createCLAHE(clipLimit=2.0, tileGridSize=(8,8))\n",
    "    enhanced = clahe.apply(gray)\n",
    "    \n",
    "    # Remove shadows using morphological operations\n",
    "    dilated = cv2.dilate(enhanced, np.ones((7,7), np.uint8))\n",
    "    bg = cv2.medianBlur(dilated, 21)\n",
    "    diff = 255 - cv2.absdiff(enhanced, bg)\n",
    "    \n",
    "    # Normalize\n",
    "    normalized = cv2.normalize(diff, None, alpha=0, beta=255, \n",
    "                             norm_type=cv2.NORM_MINMAX)\n",
    "    return normalized"
   ]
  },
  {
   "cell_type": "code",
   "execution_count": 15,
   "id": "23859000-82b4-4e84-8b53-e3eadeadc77b",
   "metadata": {},
   "outputs": [],
   "source": [
    "def threshold_receipt(image):\n",
    "    # Use Otsu's thresholding after Gaussian filtering\n",
    "    blur = cv2.GaussianBlur(image, (5,5), 0)\n",
    "    _, binary = cv2.threshold(blur, 0, 255, \n",
    "                            cv2.THRESH_BINARY + cv2.THRESH_OTSU)\n",
    "    \n",
    "    # Additional processing for thermal paper\n",
    "    kernel = np.ones((2,2), np.uint8)\n",
    "    binary = cv2.morphologyEx(binary, cv2.MORPH_CLOSE, kernel)\n",
    "    return binary"
   ]
  },
  {
   "cell_type": "code",
   "execution_count": 16,
   "id": "97f16d2e-7991-4663-9352-c80e2b478643",
   "metadata": {},
   "outputs": [],
   "source": [
    "def deskew_receipt(image):\n",
    "    # Find all non-zero points\n",
    "    coords = np.column_stack(np.where(image > 0))\n",
    "    \n",
    "    # Get angle from minAreaRect\n",
    "    angle = cv2.minAreaRect(coords)[-1]\n",
    "    \n",
    "    # Adjust angle\n",
    "    if angle < -45:\n",
    "        angle = 90 + angle\n",
    "    \n",
    "    # Rotate image\n",
    "    (h, w) = image.shape[:2]\n",
    "    center = (w // 2, h // 2)\n",
    "    M = cv2.getRotationMatrix2D(center, angle, 1.0)\n",
    "    rotated = cv2.warpAffine(image, M, (w, h),\n",
    "                            flags=cv2.INTER_CUBIC,\n",
    "                            borderMode=cv2.BORDER_REPLICATE)\n",
    "    return rotated"
   ]
  },
  {
   "cell_type": "code",
   "execution_count": 17,
   "id": "579e3acb-e336-4e0e-8c86-2d110c01527b",
   "metadata": {},
   "outputs": [],
   "source": [
    "def preprocess_receipt(image):\n",
    "    # Resize\n",
    "    resized = resize_receipt(image)\n",
    "    \n",
    "    # Enhance and remove shadows\n",
    "    enhanced = enhance_receipt(resized)\n",
    "    \n",
    "    # Threshold\n",
    "    binary = threshold_receipt(enhanced)\n",
    "    \n",
    "    # Deskew\n",
    "    deskewed = deskew_receipt(binary)\n",
    "    \n",
    "    # Final cleaning\n",
    "    kernel = np.ones((2,2), np.uint8)\n",
    "    cleaned = cv2.morphologyEx(deskewed, cv2.MORPH_CLOSE, kernel)\n",
    "    \n",
    "    return cleaned"
   ]
  },
  {
   "cell_type": "code",
   "execution_count": 18,
   "id": "5b6319f0-fb31-40fd-99c5-cadd41d8840c",
   "metadata": {},
   "outputs": [],
   "source": [
    "image = cv2.imread(image_path)\n",
    "if image is None:\n",
    "    raise FileNotFoundError(f\"Image not found at path: {image_path}\")\n",
    "\n",
    "# Convert the image to RGB format\n",
    "image = cv2.cvtColor(image, cv2.COLOR_BGR2RGB)\n",
    "\n",
    "# Perform OCR\n",
    "text = pytesseract.image_to_string(image)"
   ]
  },
  {
   "cell_type": "code",
   "execution_count": 19,
   "id": "a9887c88-81a7-41fa-8890-38b8c6517fa2",
   "metadata": {},
   "outputs": [
    {
     "data": {
      "text/plain": [
       "'= a =i |\\nSees Gt zZzie\\nee eS rr OT Oe\\n\\nees sean com\\nWWW. thaivillageplmince\\n\\n— — wa\\n\\n- 11/15/24 oy ST: 3\\n4 DINE IN 7 (DINE IN)\\na Ce a mnie es a 7.95\\n1 Thai Clear Pork $\\nVegetable Soup eo\\n2 Thai Drunken Noodle $31...\\n(Chicken)\\n-Mild ey\\n1 Thai Drunken Noodle $15.75\\n(Chicken)\\n-Medium Spicy ee nord\\nTax: $3.86\\nTotal:\\n\\n$59.06\\n“* Unpaid ***\\nNOTES: Dear Loyal Customers! We\\nare participating Cash Intensive\\n\\nProgram. All menu prices are\\nDiscounted Cash Price.\\n\\nRegular price\\nincludes a small 4% convenience fee\\n[o cover payment transaction fees.\\nThank You for Supporting omall\\n\\nBusiness!\\nYour feedback ig very il\\n\\né Let us k}\\n\\nNporttant to us.\\nMail: thai\\n\\n1OW how we did.\\nVillagaen@mamail ann.\\n'"
      ]
     },
     "execution_count": 19,
     "metadata": {},
     "output_type": "execute_result"
    }
   ],
   "source": [
    "text"
   ]
  },
  {
   "cell_type": "code",
   "execution_count": 22,
   "id": "d11d0a09-40c2-459e-a3b6-220e08a198be",
   "metadata": {},
   "outputs": [],
   "source": [
    "def clean_receipt_text(text):\n",
    "    # Remove excessive spaces and normalize newlines\n",
    "    text = ' '.join(text.split())\n",
    "    \n",
    "    # Basic cleaning\n",
    "    text = re.sub(r'[=|]', '', text)  # Remove common OCR artifacts\n",
    "    text = re.sub(r'\\s+', ' ', text)  # Normalize spaces\n",
    "    \n",
    "    # Split into lines and remove empty ones\n",
    "    lines = [line.strip() for line in text.split('\\n') if line.strip()]\n",
    "    \n",
    "    # Join back with single newlines\n",
    "    cleaned_text = '\\n'.join(lines)\n",
    "    \n",
    "    return cleaned_text"
   ]
  },
  {
   "cell_type": "code",
   "execution_count": 23,
   "id": "3447d5ad-1c04-420a-82c9-5eae24502105",
   "metadata": {},
   "outputs": [
    {
     "data": {
      "text/plain": [
       "'a i Sees Gt zZzie ee eS rr OT Oe ees sean com WWW. thaivillageplmince — — wa - 11/15/24 oy ST: 3 4 DINE IN 7 (DINE IN) a Ce a mnie es a 7.95 1 Thai Clear Pork $ Vegetable Soup eo 2 Thai Drunken Noodle $31... (Chicken) -Mild ey 1 Thai Drunken Noodle $15.75 (Chicken) -Medium Spicy ee nord Tax: $3.86 Total: $59.06 “* Unpaid *** NOTES: Dear Loyal Customers! We are participating Cash Intensive Program. All menu prices are Discounted Cash Price. Regular price includes a small 4% convenience fee [o cover payment transaction fees. Thank You for Supporting omall Business! Your feedback ig very il é Let us k} Nporttant to us. Mail: thai 1OW how we did. Villagaen@mamail ann.'"
      ]
     },
     "execution_count": 23,
     "metadata": {},
     "output_type": "execute_result"
    }
   ],
   "source": [
    "clean_receipt_text(text"
   ]
  },
  {
   "cell_type": "code",
   "execution_count": 25,
   "id": "6389d475-a567-43d7-bc38-f45e931697ca",
   "metadata": {},
   "outputs": [
    {
     "data": {
      "text/plain": [
       "'a i Sees Gt zZzie ee eS rr OT Oe ees sean com WWW. thaivillageplmince — — wa - 11/15/24 oy ST: 3 4 DINE IN 7 (DINE IN) a Ce a mnie es a 7.95 1 Thai Clear Pork $ Vegetable Soup eo 2 Thai Drunken Noodle $31... (Chicken) -Mild ey 1 Thai Drunken Noodle $15.75 (Chicken) -Medium Spicy ee nord Tax: $3.86 Total: $59.06 “* Unpaid *** NOTES: Dear Loyal Customers! We are participating Cash Intensive Program. All menu prices are Discounted Cash Price. Regular price includes a small 4% convenience fee [o cover payment transaction fees. Thank You for Supporting omall Business! Your feedback ig very il é Let us k} Nporttant to us. Mail: thai 1OW how we did. Villagaen@mamail ann.'"
      ]
     },
     "execution_count": 25,
     "metadata": {},
     "output_type": "execute_result"
    }
   ],
   "source": [
    "clean_receipt_text(text)"
   ]
  },
  {
   "cell_type": "code",
   "execution_count": null,
   "id": "ef293697-0aa0-43a6-95eb-a6371a4eddad",
   "metadata": {},
   "outputs": [],
   "source": []
  }
 ],
 "metadata": {
  "kernelspec": {
   "display_name": "Python 3 (ipykernel)",
   "language": "python",
   "name": "python3"
  },
  "language_info": {
   "codemirror_mode": {
    "name": "ipython",
    "version": 3
   },
   "file_extension": ".py",
   "mimetype": "text/x-python",
   "name": "python",
   "nbconvert_exporter": "python",
   "pygments_lexer": "ipython3",
   "version": "3.11.10"
  }
 },
 "nbformat": 4,
 "nbformat_minor": 5
}
